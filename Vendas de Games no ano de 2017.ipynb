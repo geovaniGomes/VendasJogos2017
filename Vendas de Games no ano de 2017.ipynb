{
 "cells": [
  {
   "cell_type": "code",
   "execution_count": 1,
   "metadata": {},
   "outputs": [
    {
     "name": "stdout",
     "output_type": "stream",
     "text": [
      "Populating the interactive namespace from numpy and matplotlib\n"
     ]
    }
   ],
   "source": [
    "import pandas as pd\n",
    "import numpy as np\n",
    "%matplotlib inline\n",
    "%pylab inline\n",
    "import matplotlib.pyplot as pltplt\n",
    "pltplt.style.use('ggplot')"
   ]
  },
  {
   "cell_type": "code",
   "execution_count": 2,
   "metadata": {},
   "outputs": [],
   "source": [
    "#Carregando Data Set vendas de games 2017\n",
    "df= pd.read_csv('./DataSet/Video_Game_Sales_as_of_Jan_2017.csv')\n",
    "data= df.copy()"
   ]
  },
  {
   "cell_type": "markdown",
   "metadata": {},
   "source": [
    "# Perguntas a serem respondidas\n",
    "\n",
    "1º Quantidade de jogos por Plataforma\n",
    "2º Quantidade de Usuários por Gênero\n",
    "3º Quantidade de Usuários por Plataforma\n",
    "4º Diferenças de Vendas entre as PLATAFORMAS  Vendas Globais\n",
    "\n"
   ]
  },
  {
   "cell_type": "markdown",
   "metadata": {},
   "source": [
    "# Limpesa dos dados - Data Cleaning\n"
   ]
  },
  {
   "cell_type": "code",
   "execution_count": 3,
   "metadata": {},
   "outputs": [
    {
     "data": {
      "text/plain": [
       "Index(['Name', 'Platform', 'Year_of_Release', 'Genre', 'Publisher', 'NA_Sales',\n",
       "       'EU_Sales', 'JP_Sales', 'Other_Sales', 'Global_Sales', 'Critic_Score',\n",
       "       'Critic_Count', 'User_Score', 'User_Count', 'Rating'],\n",
       "      dtype='object')"
      ]
     },
     "execution_count": 3,
     "metadata": {},
     "output_type": "execute_result"
    }
   ],
   "source": [
    "# visualizando s colunas para renomea-las\n",
    "data.columns"
   ]
  },
  {
   "cell_type": "code",
   "execution_count": 4,
   "metadata": {},
   "outputs": [],
   "source": [
    "'''\n",
    "utilizando o método rename com o paramentro columns passando um dicianario contendo a chave(nome da coluna existente)\n",
    "e o value(passando o nome da coluna para renomear)\n",
    "'''\n",
    "data.rename(columns={'Name':'NOME',\n",
    "                    'Platform':'PLATAFORMA',\n",
    "                    'Year_of_Release':'ANO DE LANÇAMENTO',\n",
    "                    'Genre':'GÊNERO',\n",
    "                    'Publisher':'PUBLICAÇÃO',\n",
    "                    'NA_Sales':'VENDAS NA',\n",
    "                    'EU_Sales':'VENDAS EU',\n",
    "                    'JP_Sales':'VENDAS JP',\n",
    "                    'Other_Sales':'OUTRAS VENDAS',\n",
    "                    'Global_Sales':'VENDAS GLOBAIS',\n",
    "                    'Critic_Score':'PONTUAÇÃO CRÍTICA',\n",
    "                    'Critic_Count':'CONTAGEM CRÍTICA',\n",
    "                    'User_Score':'PONTUAÇÃO USUÁRIO',\n",
    "                    'User_Count':'CONTAGEM USUÁRIO',\n",
    "                    'Rating':'AVALIAÇÃO'}, inplace=True)"
   ]
  },
  {
   "cell_type": "code",
   "execution_count": 5,
   "metadata": {},
   "outputs": [
    {
     "data": {
      "text/plain": [
       "NOME                  object\n",
       "PLATAFORMA            object\n",
       "ANO DE LANÇAMENTO    float64\n",
       "GÊNERO                object\n",
       "PUBLICAÇÃO            object\n",
       "VENDAS NA            float64\n",
       "VENDAS EU            float64\n",
       "VENDAS JP            float64\n",
       "OUTRAS VENDAS        float64\n",
       "VENDAS GLOBAIS       float64\n",
       "PONTUAÇÃO CRÍTICA    float64\n",
       "CONTAGEM CRÍTICA     float64\n",
       "PONTUAÇÃO USUÁRIO    float64\n",
       "CONTAGEM USUÁRIO     float64\n",
       "AVALIAÇÃO             object\n",
       "dtype: object"
      ]
     },
     "execution_count": 5,
     "metadata": {},
     "output_type": "execute_result"
    }
   ],
   "source": [
    "data.dtypes"
   ]
  },
  {
   "cell_type": "code",
   "execution_count": 6,
   "metadata": {},
   "outputs": [
    {
     "data": {
      "text/plain": [
       "NOME                    0\n",
       "PLATAFORMA              0\n",
       "ANO DE LANÇAMENTO       8\n",
       "GÊNERO                  0\n",
       "PUBLICAÇÃO              1\n",
       "VENDAS NA               0\n",
       "VENDAS EU               0\n",
       "VENDAS JP               0\n",
       "OUTRAS VENDAS           0\n",
       "VENDAS GLOBAIS          0\n",
       "PONTUAÇÃO CRÍTICA    9080\n",
       "CONTAGEM CRÍTICA     9080\n",
       "PONTUAÇÃO USUÁRIO    9618\n",
       "CONTAGEM USUÁRIO     9618\n",
       "AVALIAÇÃO            7164\n",
       "dtype: int64"
      ]
     },
     "execution_count": 6,
     "metadata": {},
     "output_type": "execute_result"
    }
   ],
   "source": [
    "data.isnull().sum()"
   ]
  },
  {
   "cell_type": "markdown",
   "metadata": {},
   "source": [
    "\n",
    "Ultilizando o método isnull() obtemos no dataFrame valores com a notação NaN. Ou seja \n",
    "Nulo e um somatório sum() que trará como resultado em cada coluna o somatório dos dados faltantes\n",
    "Note que na pontuação critica ,contagem critica, contagem usuário e avaliação , temos uma quantidade alta de valores faltates. \n",
    "E se deixarmos assim teremos análises um pouca estranhas na faze de exploração. \n",
    "\n",
    "Utilizaremos o metodo fillna() e preencheremos os campos NaN com a média dos valores presentes. Mas antes verificaremos se existem outliers que são valores que fojem do padrão de outros dados. Ou seja um valor discrepante. \n",
    "Para isso valor plotar um gráfico boxplot que nos ajudará a encontrar esses outliers. \n",
    "Esses gráficos serão plotados nas seguintes colunas PONTUAÇÃO CRÍTICA ,CONTAGEM CRÍTICA , PONTUAÇÃO USUÁRIO, CONTAGEM USUÁRIO\n",
    "\n"
   ]
  },
  {
   "cell_type": "code",
   "execution_count": 7,
   "metadata": {},
   "outputs": [
    {
     "name": "stdout",
     "output_type": "stream",
     "text": [
      "AxesSubplot(0.125,0.125;0.775x0.755)\n"
     ]
    },
    {
     "data": {
      "image/png": "[encoded data removed]",
      "text/plain": [
       "<Figure size 432x288 with 1 Axes>"
      ]
     },
     "metadata": {
      "needs_background": "light"
     },
     "output_type": "display_data"
    }
   ],
   "source": [
    "##outliers_pontuacao_critica= data['PONTUAÇÃO CRÍTICA'].isnull()\n",
    "##boxplot_pontuacao_critica = data.boxplot(by='outliers_pontuacao_critica')\n",
    "print(data.boxplot(column=['PONTUAÇÃO CRÍTICA','CONTAGEM CRÍTICA','PONTUAÇÃO USUÁRIO']))\n",
    "\n"
   ]
  },
  {
   "cell_type": "code",
   "execution_count": 111,
   "metadata": {},
   "outputs": [
    {
     "data": {
      "text/plain": [
       "<matplotlib.axes._subplots.AxesSubplot at 0x1cd52f02908>"
      ]
     },
     "execution_count": 111,
     "metadata": {},
     "output_type": "execute_result"
    },
    {
     "data": {
      "image/png": "[encoded data removed]",
      "text/plain": [
       "<Figure size 432x288 with 1 Axes>"
      ]
     },
     "metadata": {},
     "output_type": "display_data"
    }
   ],
   "source": [
    "\n",
    "data.boxplot(column='CONTAGEM USUÁRIO')"
   ]
  },
  {
   "cell_type": "code",
   "execution_count": 10,
   "metadata": {},
   "outputs": [
    {
     "data": {
      "text/plain": [
       "<matplotlib.axes._subplots.AxesSubplot at 0x1e2dcf9c9e8>"
      ]
     },
     "execution_count": 10,
     "metadata": {},
     "output_type": "execute_result"
    },
    {
     "data": {
      "image/png": "[encoded data removed]",
      "text/plain": [
       "<Figure size 432x288 with 1 Axes>"
      ]
     },
     "metadata": {
      "needs_background": "light"
     },
     "output_type": "display_data"
    }
   ],
   "source": [
    "data.boxplot(column='ANO DE LANÇAMENTO')"
   ]
  },
  {
   "cell_type": "markdown",
   "metadata": {},
   "source": [
    "Gerado os gráficos, notamos que na coluna PONTUAÇÃO CRÍTICA  temos um outliers encontrado abaixo na concentração de valores mínimos. Na coluna CONTAGEM CRÍTICA  encontramos um outliers acima da concentração de valores maximos. Na coluna PONTUAÇÃO USUÁRIO temos uma distribuição OK concentrado por valores mínimos. Porem sem outliers. Na coluna CONTAGEM USUÁRIO temos uma concentração de valores máximos. Poem temos muitos outliers. E por ultima coluna ANO DE LANÇAMENTO, concentrado por valores mínimos. Porem com outliers"
   ]
  },
  {
   "cell_type": "markdown",
   "metadata": {},
   "source": [
    "agora iremos buscar esses outliers em cada coluna para sabermos o valor do mesmo. "
   ]
  },
  {
   "cell_type": "code",
   "execution_count": 8,
   "metadata": {},
   "outputs": [
    {
     "name": "stdout",
     "output_type": "stream",
     "text": [
      "Menor valor na coluna PONTUAÇÃO CRÍTICA => 13.0\n",
      "Maior valor na coluna CONTAGEM CRÍTICA =>113.0\n",
      "Maior valor na coluna CONTAGEM USUÁRIO =>10766.0\n"
     ]
    }
   ],
   "source": [
    "\n",
    "print('Menor valor na coluna PONTUAÇÃO CRÍTICA => '+str(data['PONTUAÇÃO CRÍTICA'].min()))\n",
    "print('Maior valor na coluna CONTAGEM CRÍTICA =>'+str(data['CONTAGEM CRÍTICA'].max()))\n",
    "print('Maior valor na coluna CONTAGEM USUÁRIO =>'+str(data['CONTAGEM USUÁRIO'].max()))"
   ]
  },
  {
   "cell_type": "markdown",
   "metadata": {},
   "source": [
    "Para preechermos os valores faltates iremos fazer de duas formas:\n",
    "1º fillna() usando a média para colunas que não possuem outliers \n",
    "2º fillna() usando a mediana para colunas que possuem outliers.\n",
    "\n",
    "Antes iremos dropar a linha de publicação que tem 1 dado faltante. E preecheremos os 8 campos NaN com a média da coluna ANO LANÇAMENTO"
   ]
  },
  {
   "cell_type": "code",
   "execution_count": 9,
   "metadata": {},
   "outputs": [],
   "source": [
    "#data.drop(subset='PUBLICAÇÃO', axis=1, inplace=True)\n",
    "# Lembrando as colunas PONTUAÇÃO CRÍTICA, CONTAGEM CRÍTICA , CONTAGEM USUÁRIO, possuem outliers. Logo será preenchido com a mediana\n",
    "# A coluna PONTUAÇÃO USUÁRIO e  ANO DE LANÇAMENTO ,possui outliers então será preencida pela median.\n",
    "\n",
    "data['PONTUAÇÃO CRÍTICA'].fillna(data['PONTUAÇÃO CRÍTICA'].median(), inplace=True)\n",
    "data['CONTAGEM USUÁRIO'].fillna(data['CONTAGEM USUÁRIO'].median(), inplace=True)\n",
    "data['CONTAGEM CRÍTICA'].fillna(data['CONTAGEM CRÍTICA'].median(), inplace=True)\n",
    "data['PONTUAÇÃO USUÁRIO'].fillna(data['PONTUAÇÃO USUÁRIO'].mean(), inplace=True)\n",
    "data[\"ANO DE LANÇAMENTO\"].fillna(data[\"ANO DE LANÇAMENTO\"].median(),inplace = True)\n"
   ]
  },
  {
   "cell_type": "code",
   "execution_count": 5,
   "metadata": {},
   "outputs": [
    {
     "data": {
      "text/plain": [
       "NOME                    0\n",
       "PLATAFORMA              0\n",
       "ANO DE LANÇAMENTO       0\n",
       "GÊNERO                  0\n",
       "PUBLICAÇÃO              1\n",
       "VENDAS NA               0\n",
       "VENDAS EU               0\n",
       "VENDAS JP               0\n",
       "OUTRAS VENDAS           0\n",
       "VENDAS GLOBAIS          0\n",
       "PONTUAÇÃO CRÍTICA       0\n",
       "CONTAGEM CRÍTICA        0\n",
       "PONTUAÇÃO USUÁRIO       0\n",
       "CONTAGEM USUÁRIO        0\n",
       "AVALIAÇÃO            7164\n",
       "dtype: int64"
      ]
     },
     "execution_count": 5,
     "metadata": {},
     "output_type": "execute_result"
    }
   ],
   "source": [
    "data.isnull().sum()"
   ]
  },
  {
   "cell_type": "markdown",
   "metadata": {},
   "source": [
    "Agora que resolvemos os valores faltantes das colunas processadas acima, iremos focar em duas colunas: PUBLICAÇÃO e AVALIAÇÃO.\n"
   ]
  },
  {
   "cell_type": "markdown",
   "metadata": {},
   "source": [
    "Na coluna PUBLICAÇÃO temos a empresa responsável pela publicação do produto. Ou seja o jogo.\n",
    "E na coluna AVALIAÇÃO temos algumas indicações E,M,T  que são classificações da ESRB Ratings Guide(Entertainment Software Rating Board).\n",
    "\n",
    "Fornecem informações concisas e objetivas sobre o conteúdo em jogos e aplicativos de vídeo, para que os consumidores, especialmente os pais, possam fazer escolhas informadas. As classificações do ESRB têm três partes:\n",
    "\n",
    "=====>Categorias de avaliação- Sugerem adequação à idade\n",
    "\n",
    "=====>Os Descritores de Conteúdo- Indicam conteúdo que pode ter acionado uma classificação específica  pode ser de interesse ou preocupação\n",
    "\n",
    "======>Elementos- Interativos destacam recursos interativos ou on-line de um produto, incluindo a capacidade de interação dos usuários, o compartilhamento da localização dos usuários com outros usuários, compras de produtos ou serviços digitais pode acesso irrestrito à Internet .\n"
   ]
  },
  {
   "cell_type": "markdown",
   "metadata": {},
   "source": [
    "Aqui uma ilustração Sobre as classificação\n",
    "\n",
    "![Image of Yaktocat](https://esrbstorage.blob.core.windows.net/esrbcontent/images/esrb_rating_categories_e-ao.png)\n",
    "\n",
    "![Image of Yaktocat](https://esrbstorage.blob.core.windows.net/esrbcontent/images/ratingsymbol_rp.png)\n"
   ]
  },
  {
   "cell_type": "markdown",
   "metadata": {},
   "source": [
    "Essa classificação RP(Clasificação pendente)seguinifica que  ainda não foi atribuída uma classificação final do ESRB.Ela  aparece apenas em publicidade, marketing e materiais promocionais relacionados a um videogame físico (por exemplo, em caixa) que deve ter uma classificação ESRB e deve ser substituído pela classificação de um jogo depois de atribuído. E no nosso DataSet, temos alguns valores NaN. Pode ser que esses produtos não receberam essa classificação e estar categorizado como RP ou de fato houveram problemas na coleta dos dados.\n",
    "\n",
    "Focaremos na coluna AVALIAÇÃO. "
   ]
  },
  {
   "cell_type": "code",
   "execution_count": 13,
   "metadata": {},
   "outputs": [
    {
     "data": {
      "text/html": [
       "<div>\n",
       "<style scoped>\n",
       "    .dataframe tbody tr th:only-of-type {\n",
       "        vertical-align: middle;\n",
       "    }\n",
       "\n",
       "    .dataframe tbody tr th {\n",
       "        vertical-align: top;\n",
       "    }\n",
       "\n",
       "    .dataframe thead th {\n",
       "        text-align: right;\n",
       "    }\n",
       "</style>\n",
       "<table border=\"1\" class=\"dataframe\">\n",
       "  <thead>\n",
       "    <tr style=\"text-align: right;\">\n",
       "      <th></th>\n",
       "      <th>NOME</th>\n",
       "      <th>PLATAFORMA</th>\n",
       "      <th>ANO DE LANÇAMENTO</th>\n",
       "      <th>GÊNERO</th>\n",
       "      <th>PUBLICAÇÃO</th>\n",
       "      <th>VENDAS NA</th>\n",
       "      <th>VENDAS EU</th>\n",
       "      <th>VENDAS JP</th>\n",
       "      <th>OUTRAS VENDAS</th>\n",
       "      <th>VENDAS GLOBAIS</th>\n",
       "      <th>PONTUAÇÃO CRÍTICA</th>\n",
       "      <th>CONTAGEM CRÍTICA</th>\n",
       "      <th>PONTUAÇÃO USUÁRIO</th>\n",
       "      <th>CONTAGEM USUÁRIO</th>\n",
       "      <th>AVALIAÇÃO</th>\n",
       "    </tr>\n",
       "  </thead>\n",
       "  <tbody>\n",
       "    <tr>\n",
       "      <th>1</th>\n",
       "      <td>Super Mario Bros.</td>\n",
       "      <td>NES</td>\n",
       "      <td>1985.0</td>\n",
       "      <td>Platform</td>\n",
       "      <td>Nintendo</td>\n",
       "      <td>29.08</td>\n",
       "      <td>3.58</td>\n",
       "      <td>6.81</td>\n",
       "      <td>0.77</td>\n",
       "      <td>40.24</td>\n",
       "      <td>71.0</td>\n",
       "      <td>21.0</td>\n",
       "      <td>7.117056</td>\n",
       "      <td>25.0</td>\n",
       "      <td>NaN</td>\n",
       "    </tr>\n",
       "    <tr>\n",
       "      <th>4</th>\n",
       "      <td>Pokemon Red/Pokemon Blue</td>\n",
       "      <td>G</td>\n",
       "      <td>1996.0</td>\n",
       "      <td>Role-Playing</td>\n",
       "      <td>Nintendo</td>\n",
       "      <td>11.27</td>\n",
       "      <td>8.89</td>\n",
       "      <td>10.22</td>\n",
       "      <td>1.00</td>\n",
       "      <td>31.37</td>\n",
       "      <td>71.0</td>\n",
       "      <td>21.0</td>\n",
       "      <td>7.117056</td>\n",
       "      <td>25.0</td>\n",
       "      <td>NaN</td>\n",
       "    </tr>\n",
       "    <tr>\n",
       "      <th>5</th>\n",
       "      <td>Tetris</td>\n",
       "      <td>G</td>\n",
       "      <td>1989.0</td>\n",
       "      <td>Puzzle</td>\n",
       "      <td>Nintendo</td>\n",
       "      <td>23.20</td>\n",
       "      <td>2.26</td>\n",
       "      <td>4.22</td>\n",
       "      <td>0.58</td>\n",
       "      <td>30.26</td>\n",
       "      <td>71.0</td>\n",
       "      <td>21.0</td>\n",
       "      <td>7.117056</td>\n",
       "      <td>25.0</td>\n",
       "      <td>NaN</td>\n",
       "    </tr>\n",
       "    <tr>\n",
       "      <th>9</th>\n",
       "      <td>Duck Hunt</td>\n",
       "      <td>NES</td>\n",
       "      <td>1984.0</td>\n",
       "      <td>Shooter</td>\n",
       "      <td>Nintendo</td>\n",
       "      <td>26.93</td>\n",
       "      <td>0.63</td>\n",
       "      <td>0.28</td>\n",
       "      <td>0.47</td>\n",
       "      <td>28.31</td>\n",
       "      <td>71.0</td>\n",
       "      <td>21.0</td>\n",
       "      <td>7.117056</td>\n",
       "      <td>25.0</td>\n",
       "      <td>NaN</td>\n",
       "    </tr>\n",
       "    <tr>\n",
       "      <th>10</th>\n",
       "      <td>Nintendogs</td>\n",
       "      <td>DS</td>\n",
       "      <td>2005.0</td>\n",
       "      <td>Simulation</td>\n",
       "      <td>Nintendo</td>\n",
       "      <td>9.05</td>\n",
       "      <td>10.95</td>\n",
       "      <td>1.93</td>\n",
       "      <td>2.74</td>\n",
       "      <td>24.67</td>\n",
       "      <td>71.0</td>\n",
       "      <td>21.0</td>\n",
       "      <td>7.117056</td>\n",
       "      <td>25.0</td>\n",
       "      <td>NaN</td>\n",
       "    </tr>\n",
       "  </tbody>\n",
       "</table>\n",
       "</div>"
      ],
      "text/plain": [
       "                        NOME PLATAFORMA  ANO DE LANÇAMENTO        GÊNERO  \\\n",
       "1          Super Mario Bros.        NES             1985.0      Platform   \n",
       "4   Pokemon Red/Pokemon Blue          G             1996.0  Role-Playing   \n",
       "5                     Tetris          G             1989.0        Puzzle   \n",
       "9                  Duck Hunt        NES             1984.0       Shooter   \n",
       "10                Nintendogs         DS             2005.0    Simulation   \n",
       "\n",
       "   PUBLICAÇÃO  VENDAS NA  VENDAS EU  VENDAS JP  OUTRAS VENDAS  VENDAS GLOBAIS  \\\n",
       "1    Nintendo      29.08       3.58       6.81           0.77           40.24   \n",
       "4    Nintendo      11.27       8.89      10.22           1.00           31.37   \n",
       "5    Nintendo      23.20       2.26       4.22           0.58           30.26   \n",
       "9    Nintendo      26.93       0.63       0.28           0.47           28.31   \n",
       "10   Nintendo       9.05      10.95       1.93           2.74           24.67   \n",
       "\n",
       "    PONTUAÇÃO CRÍTICA  CONTAGEM CRÍTICA  PONTUAÇÃO USUÁRIO  CONTAGEM USUÁRIO  \\\n",
       "1                71.0              21.0           7.117056              25.0   \n",
       "4                71.0              21.0           7.117056              25.0   \n",
       "5                71.0              21.0           7.117056              25.0   \n",
       "9                71.0              21.0           7.117056              25.0   \n",
       "10               71.0              21.0           7.117056              25.0   \n",
       "\n",
       "   AVALIAÇÃO  \n",
       "1        NaN  \n",
       "4        NaN  \n",
       "5        NaN  \n",
       "9        NaN  \n",
       "10       NaN  "
      ]
     },
     "execution_count": 13,
     "metadata": {},
     "output_type": "execute_result"
    }
   ],
   "source": [
    "data[data['AVALIAÇÃO'].isnull()].head()"
   ]
  },
  {
   "cell_type": "markdown",
   "metadata": {},
   "source": [
    "Como nosso dataSet é de vendas, significa que todos os games listados de fato foram lançados. Então podemos descartar o RP como um possível substituto para os nossos NaN.\n",
    "Podemos podemos deletar esses campo em NaN\n"
   ]
  },
  {
   "cell_type": "code",
   "execution_count": 34,
   "metadata": {},
   "outputs": [],
   "source": [
    "data.dropna( inplace=True)\n",
    "\n"
   ]
  },
  {
   "cell_type": "markdown",
   "metadata": {},
   "source": [
    "Usando o comando dropna, ele ira deletar todos os valores faltantes , inclusive da PUBLICAÇÃO que tinha 1 dado faltante\n",
    "feito isso valos salvar esse dataSet modificado. usando o comando to_csv() \n",
    "Para o processo de exploração, usaremos o arquivo recentemente salvado Vendas_Games_2017.csv."
   ]
  },
  {
   "cell_type": "code",
   "execution_count": 10,
   "metadata": {},
   "outputs": [],
   "source": [
    "data.to_csv('Vendas_Games_2017.csv')\n"
   ]
  },
  {
   "cell_type": "code",
   "execution_count": 11,
   "metadata": {},
   "outputs": [],
   "source": [
    "#Carregando o novo Data Set\n",
    "df=pd.read_csv('Vendas_Games_2017.csv')"
   ]
  },
  {
   "cell_type": "markdown",
   "metadata": {},
   "source": [
    "# Exploração do Dados "
   ]
  },
  {
   "cell_type": "code",
   "execution_count": 5,
   "metadata": {},
   "outputs": [
    {
     "data": {
      "text/plain": [
       "<matplotlib.axes._subplots.AxesSubplot at 0x2222a1b8630>"
      ]
     },
     "execution_count": 5,
     "metadata": {},
     "output_type": "execute_result"
    },
    {
     "data": {
      "image/png": "[encoded data removed]",
      "text/plain": [
       "<Figure size 432x288 with 1 Axes>"
      ]
     },
     "metadata": {
      "needs_background": "light"
     },
     "output_type": "display_data"
    }
   ],
   "source": [
    "# Respondendo a 1º pergunta: Quantidade de jogos por Plataforma\n",
    "\n",
    "\n",
    "df['PLATAFORMA'].value_counts().plot(kind='bar')"
   ]
  },
  {
   "cell_type": "code",
   "execution_count": 3,
   "metadata": {},
   "outputs": [
    {
     "data": {
      "text/plain": [
       "<matplotlib.axes._subplots.AxesSubplot at 0x21b07fa3d68>"
      ]
     },
     "execution_count": 3,
     "metadata": {},
     "output_type": "execute_result"
    },
    {
     "data": {
      "image/png": "[encoded data removed]",
      "text/plain": [
       "<Figure size 432x288 with 1 Axes>"
      ]
     },
     "metadata": {
      "needs_background": "light"
     },
     "output_type": "display_data"
    }
   ],
   "source": [
    "# Respondendo a 2º Quantidade de Usuários por Gênero\n",
    "\n",
    "df.groupby('GÊNERO')['CONTAGEM USUÁRIO'].sum().plot(kind='bar')"
   ]
  },
  {
   "cell_type": "code",
   "execution_count": 5,
   "metadata": {},
   "outputs": [
    {
     "data": {
      "text/plain": [
       "<matplotlib.axes._subplots.AxesSubplot at 0x21b0afaa320>"
      ]
     },
     "execution_count": 5,
     "metadata": {},
     "output_type": "execute_result"
    },
    {
     "data": {
      "image/png": "[encoded data removed]",
      "text/plain": [
       "<Figure size 432x288 with 1 Axes>"
      ]
     },
     "metadata": {
      "needs_background": "light"
     },
     "output_type": "display_data"
    }
   ],
   "source": [
    "# Respondendo a 3º Quantidade de Usuários por Plataforma\n",
    "\n",
    "df.groupby('PLATAFORMA')['CONTAGEM USUÁRIO'].sum().plot(kind='bar')\n"
   ]
  },
  {
   "cell_type": "code",
   "execution_count": 8,
   "metadata": {},
   "outputs": [
    {
     "data": {
      "text/plain": [
       "<matplotlib.axes._subplots.AxesSubplot at 0x213e186ff28>"
      ]
     },
     "execution_count": 8,
     "metadata": {},
     "output_type": "execute_result"
    },
    {
     "data": {
      "image/png": "[encoded data removed]",
      "text/plain": [
       "<Figure size 432x288 with 1 Axes>"
      ]
     },
     "metadata": {
      "needs_background": "light"
     },
     "output_type": "display_data"
    }
   ],
   "source": [
    "# Respondendo a 4º Diferenças de Vendas entre as PLATAFORMAS  Vendas Globais\n",
    "\n",
    "\n",
    "df.groupby('PLATAFORMA')['VENDAS GLOBAIS'].sum().plot(kind='bar')\n"
   ]
  },
  {
   "cell_type": "markdown",
   "metadata": {},
   "source": [
    "Referências :\n",
    "__[Blog Minerando Dados](http://minerandodados.com.br/)__\n",
    "__[ESRB_Ratings_Guide](https://www.ign.com/wikis/content-ratings/ESRB#ESRB_Ratings_Guide)__\n"
   ]
  }
 ],
 "metadata": {
  "kernelspec": {
   "display_name": "Python 3",
   "language": "python",
   "name": "python3"
  },
  "language_info": {
   "codemirror_mode": {
    "name": "ipython",
    "version": 3
   },
   "file_extension": ".py",
   "mimetype": "text/x-python",
   "name": "python",
   "nbconvert_exporter": "python",
   "pygments_lexer": "ipython3",
   "version": "3.7.1"
  }
 },
 "nbformat": 4,
 "nbformat_minor": 2
}
